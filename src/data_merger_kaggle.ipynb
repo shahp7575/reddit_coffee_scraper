{
 "cells": [
  {
   "cell_type": "code",
   "execution_count": 47,
   "id": "6ee3ea90-e254-41df-8e79-0aa8e013cdfb",
   "metadata": {},
   "outputs": [],
   "source": [
    "import pandas as pd\n",
    "import os\n",
    "import glob\n",
    "import kaggle\n",
    "from datetime import datetime"
   ]
  },
  {
   "cell_type": "markdown",
   "id": "5a24359b-6bb9-4ab2-8e85-3d1b070c103e",
   "metadata": {},
   "source": [
    "## Download dataset from kaggle"
   ]
  },
  {
   "cell_type": "code",
   "execution_count": 22,
   "id": "76b461ac-7d27-42a8-9ac8-dbdda49ddfe2",
   "metadata": {},
   "outputs": [
    {
     "name": "stdout",
     "output_type": "stream",
     "text": [
      "Warning: Your Kaggle API key is readable by other users on this system! To fix this, you can run 'chmod 600 /Users/parthshah/.kaggle/kaggle.json'\n",
      "Dataset URL: https://www.kaggle.com/datasets/shahp7575/reddit-posts-with-keyword-coffee/versions/\n",
      "License(s): MIT\n",
      "Downloading reddit-posts-with-keyword-coffee.zip to kaggle_dataset\n",
      "\n"
     ]
    },
    {
     "name": "stderr",
     "output_type": "stream",
     "text": [
      "100%|██████████| 101k/101k [00:00<00:00, 4.78MB/s]\n"
     ]
    },
    {
     "data": {
      "text/plain": [
       "0"
      ]
     },
     "execution_count": 22,
     "metadata": {},
     "output_type": "execute_result"
    }
   ],
   "source": [
    "download_path = \"kaggle_dataset/\"\n",
    "dataset_slug = \"shahp7575/reddit-posts-with-keyword-coffee/\"\n",
    "os.system(f'kaggle datasets download -d {dataset_slug} -p {download_path} --unzip')"
   ]
  },
  {
   "cell_type": "code",
   "execution_count": 26,
   "id": "76cce2a2-9249-49bb-b96c-a1eb486fa374",
   "metadata": {},
   "outputs": [],
   "source": [
    "kaggle_csv = glob.glob(download_path + \"*.csv\")[0]"
   ]
  },
  {
   "cell_type": "code",
   "execution_count": 28,
   "id": "da9067d0-e204-4dba-a900-9c249683927a",
   "metadata": {},
   "outputs": [],
   "source": [
    "df_kaggle = pd.read_csv(kaggle_csv)"
   ]
  },
  {
   "cell_type": "markdown",
   "id": "a296b07e-6ad7-4f39-996f-08076b97a353",
   "metadata": {},
   "source": [
    "## Read Scraped data"
   ]
  },
  {
   "cell_type": "code",
   "execution_count": 32,
   "id": "5609b792-749d-4f70-aae2-2e47d124727b",
   "metadata": {},
   "outputs": [],
   "source": [
    "DATA_PATH = \"../data/\"\n",
    "CSV_FILES = glob.glob(DATA_PATH + \"*.csv\")"
   ]
  },
  {
   "cell_type": "code",
   "execution_count": 33,
   "id": "1661e481-b4f7-4fae-a4f0-f1b4d576f131",
   "metadata": {
    "collapsed": true,
    "jupyter": {
     "outputs_hidden": true
    }
   },
   "outputs": [
    {
     "data": {
      "text/plain": [
       "['../data/reddit_coffee_posts_1728231154_1728238354.csv',\n",
       " '../data/reddit_coffee_posts_1727923730_1727930930.csv',\n",
       " '../data/reddit_coffee_posts_1728274533_1728281733.csv',\n",
       " '../data/reddit_coffee_posts_1728255082_1728262282.csv',\n",
       " '../data/reddit_coffee_posts_1728281610_1728288810.csv',\n",
       " '../data/reddit_coffee_posts_1728130135_1728137335.csv',\n",
       " '../data/reddit_coffee_posts_1728151841_1728159041.csv',\n",
       " '../data/reddit_coffee_posts_1728324711_1728331911.csv',\n",
       " '../data/reddit_coffee_posts_1728288761_1728295961.csv',\n",
       " '../data/reddit_coffee_posts_1728216522_1728223722.csv',\n",
       " '../data/reddit_coffee_posts_1728158998_1728166198.csv',\n",
       " '../data/reddit_coffee_posts_1727972036_1727979236.csv',\n",
       " '../data/reddit_coffee_posts_1727995741_1728002941.csv',\n",
       " '../data/reddit_coffee_posts_1728137512_1728144712.csv',\n",
       " '../data/reddit_coffee_posts_1728296412_1728303612.csv',\n",
       " '../data/reddit_coffee_posts_1728209858_1728217058.csv',\n",
       " '../data/reddit_coffee_posts_1728065507_1728072707.csv',\n",
       " '../data/reddit_coffee_posts_1728168816_1728176016.csv',\n",
       " '../data/reddit_coffee_posts_1728123473_1728130673.csv',\n",
       " '../data/reddit_coffee_posts_1728029484_1728036684.csv',\n",
       " '../data/reddit_coffee_posts_1728058434_1728065634.csv',\n",
       " '../data/reddit_coffee_posts_1728223885_1728231085.csv',\n",
       " '../data/reddit_coffee_posts_1728007986_1728015186.csv',\n",
       " '../data/reddit_coffee_posts_1727920793_1727927993.csv',\n",
       " '../data/reddit_coffee_posts_1728267200_1728274400.csv',\n",
       " '../data/reddit_coffee_posts_1728144743_1728151943.csv',\n",
       " '../data/reddit_coffee_posts_1728202211_1728209411.csv',\n",
       " '../data/reddit_coffee_posts_1728180826_1728188026.csv',\n",
       " '../data/reddit_coffee_posts_1728175806_1728183006.csv',\n",
       " '../data/reddit_coffee_posts_1727928904_1727936104.csv',\n",
       " '../data/reddit_coffee_posts_1728108779_1728115979.csv',\n",
       " '../data/reddit_coffee_posts_1728188039_1728195239.csv',\n",
       " '../data/reddit_coffee_posts_1728037155_1728044355.csv',\n",
       " '../data/reddit_coffee_posts_1728262133_1728269333.csv',\n",
       " '../data/reddit_coffee_posts_1728088927_1728096127.csv',\n",
       " '../data/reddit_coffee_posts_1727892016_1727899216.csv',\n",
       " '../data/reddit_coffee_posts_1728043876_1728051076.csv',\n",
       " '../data/reddit_coffee_posts_1728022514_1728029714.csv',\n",
       " '../data/reddit_coffee_posts_1728051217_1728058417.csv',\n",
       " '../data/reddit_coffee_posts_1727943077_1727950277.csv',\n",
       " '../data/reddit_coffee_posts_1727964771_1727971971.csv',\n",
       " '../data/reddit_coffee_posts_1728072592_1728079792.csv',\n",
       " '../data/reddit_coffee_posts_1728303029_1728310229.csv',\n",
       " '../data/reddit_coffee_posts_1728094386_1728101586.csv',\n",
       " '../data/reddit_coffee_posts_1727950762_1727957962.csv',\n",
       " '../data/reddit_coffee_posts_1728115791_1728122991.csv',\n",
       " '../data/reddit_coffee_posts_1728082091_1728089291.csv',\n",
       " '../data/reddit_coffee_posts_1728245364_1728252564.csv',\n",
       " '../data/reddit_coffee_posts_1727957408_1727964608.csv',\n",
       " '../data/reddit_coffee_posts_1728317653_1728324853.csv',\n",
       " '../data/reddit_coffee_posts_1728238239_1728245439.csv',\n",
       " '../data/reddit_coffee_posts_1728015311_1728022511.csv',\n",
       " '../data/reddit_coffee_posts_1727979075_1727986275.csv',\n",
       " '../data/reddit_coffee_posts_1728101603_1728108803.csv',\n",
       " '../data/reddit_coffee_posts_1727986247_1727993447.csv',\n",
       " '../data/reddit_coffee_posts_1728310357_1728317557.csv',\n",
       " '../data/reddit_coffee_posts_1728195165_1728202365.csv',\n",
       " '../data/reddit_coffee_posts_1728331795_1728338995.csv',\n",
       " '../data/reddit_coffee_posts_1727936055_1727943255.csv',\n",
       " '../data/reddit_coffee_posts_1728002694_1728009894.csv']"
      ]
     },
     "execution_count": 33,
     "metadata": {},
     "output_type": "execute_result"
    }
   ],
   "source": [
    "CSV_FILES"
   ]
  },
  {
   "cell_type": "code",
   "execution_count": 34,
   "id": "472658f5-93f8-484a-9baf-7d87603a2c65",
   "metadata": {},
   "outputs": [],
   "source": [
    "df_list = []"
   ]
  },
  {
   "cell_type": "code",
   "execution_count": 35,
   "id": "6fb15d35-ae7f-49a4-9803-c8866cbf0ca1",
   "metadata": {},
   "outputs": [],
   "source": [
    "for f in CSV_FILES:\n",
    "    df = pd.read_csv(f)\n",
    "    df_list.append(df)"
   ]
  },
  {
   "cell_type": "code",
   "execution_count": 36,
   "id": "bed0224a-6aad-486b-9ae5-48d909329c5c",
   "metadata": {},
   "outputs": [],
   "source": [
    "combined_df = pd.concat(df_list, ignore_index=True)"
   ]
  },
  {
   "cell_type": "code",
   "execution_count": 37,
   "id": "031eb03f-7931-470e-a3bc-c9da75d91e75",
   "metadata": {},
   "outputs": [
    {
     "data": {
      "text/plain": [
       "(8300, 10)"
      ]
     },
     "execution_count": 37,
     "metadata": {},
     "output_type": "execute_result"
    }
   ],
   "source": [
    "combined_df.shape"
   ]
  },
  {
   "cell_type": "code",
   "execution_count": 38,
   "id": "2bc9c9f5-6dc7-4890-aa0a-390d98405efa",
   "metadata": {
    "collapsed": true,
    "jupyter": {
     "outputs_hidden": true
    }
   },
   "outputs": [
    {
     "data": {
      "text/html": [
       "<div>\n",
       "<style scoped>\n",
       "    .dataframe tbody tr th:only-of-type {\n",
       "        vertical-align: middle;\n",
       "    }\n",
       "\n",
       "    .dataframe tbody tr th {\n",
       "        vertical-align: top;\n",
       "    }\n",
       "\n",
       "    .dataframe thead th {\n",
       "        text-align: right;\n",
       "    }\n",
       "</style>\n",
       "<table border=\"1\" class=\"dataframe\">\n",
       "  <thead>\n",
       "    <tr style=\"text-align: right;\">\n",
       "      <th></th>\n",
       "      <th>id</th>\n",
       "      <th>url</th>\n",
       "      <th>title</th>\n",
       "      <th>text</th>\n",
       "      <th>score</th>\n",
       "      <th>created_utc</th>\n",
       "      <th>subreddit</th>\n",
       "      <th>num_comments</th>\n",
       "      <th>upvote_ratio</th>\n",
       "      <th>over_18</th>\n",
       "    </tr>\n",
       "  </thead>\n",
       "  <tbody>\n",
       "    <tr>\n",
       "      <th>0</th>\n",
       "      <td>1fxmtei</td>\n",
       "      <td>https://www.reddit.com/r/ucla/comments/1fxmtei...</td>\n",
       "      <td>Can I email back consulting clubs to ask for a...</td>\n",
       "      <td>My resume/application got rejected from a cons...</td>\n",
       "      <td>1</td>\n",
       "      <td>1.728238e+09</td>\n",
       "      <td>ucla</td>\n",
       "      <td>0</td>\n",
       "      <td>1.00</td>\n",
       "      <td>False</td>\n",
       "    </tr>\n",
       "    <tr>\n",
       "      <th>1</th>\n",
       "      <td>1fxms88</td>\n",
       "      <td>https://i.redd.it/hvmfotrcf6td1.png</td>\n",
       "      <td>Got 100 days of free coffee! 🥲</td>\n",
       "      <td>A local Dunkin was giving away these away to t...</td>\n",
       "      <td>1</td>\n",
       "      <td>1.728238e+09</td>\n",
       "      <td>DunkinDonuts</td>\n",
       "      <td>0</td>\n",
       "      <td>1.00</td>\n",
       "      <td>False</td>\n",
       "    </tr>\n",
       "    <tr>\n",
       "      <th>2</th>\n",
       "      <td>1fxmrv9</td>\n",
       "      <td>https://www.reddit.com/r/AffiliateCommunity/co...</td>\n",
       "      <td>30 percent commission! Easy sell</td>\n",
       "      <td>I’d love to invite you to join the AVY Coffee ...</td>\n",
       "      <td>1</td>\n",
       "      <td>1.728238e+09</td>\n",
       "      <td>AffiliateCommunity</td>\n",
       "      <td>0</td>\n",
       "      <td>1.00</td>\n",
       "      <td>False</td>\n",
       "    </tr>\n",
       "    <tr>\n",
       "      <th>3</th>\n",
       "      <td>1fxmrnq</td>\n",
       "      <td>https://www.reddit.com/r/relationship_advice/c...</td>\n",
       "      <td>I (M28) confessed to my long time friend (F28)...</td>\n",
       "      <td>We’ve been friends for over 10 years. She brok...</td>\n",
       "      <td>1</td>\n",
       "      <td>1.728238e+09</td>\n",
       "      <td>relationship_advice</td>\n",
       "      <td>1</td>\n",
       "      <td>1.00</td>\n",
       "      <td>False</td>\n",
       "    </tr>\n",
       "    <tr>\n",
       "      <th>4</th>\n",
       "      <td>1fxmr5d</td>\n",
       "      <td>https://www.reddit.com/r/CasualIreland/comment...</td>\n",
       "      <td>Is there a way to avoid having dinner with my ...</td>\n",
       "      <td>I don't like having dinner with my mam!! For s...</td>\n",
       "      <td>1</td>\n",
       "      <td>1.728238e+09</td>\n",
       "      <td>CasualIreland</td>\n",
       "      <td>0</td>\n",
       "      <td>0.67</td>\n",
       "      <td>False</td>\n",
       "    </tr>\n",
       "    <tr>\n",
       "      <th>...</th>\n",
       "      <td>...</td>\n",
       "      <td>...</td>\n",
       "      <td>...</td>\n",
       "      <td>...</td>\n",
       "      <td>...</td>\n",
       "      <td>...</td>\n",
       "      <td>...</td>\n",
       "      <td>...</td>\n",
       "      <td>...</td>\n",
       "      <td>...</td>\n",
       "    </tr>\n",
       "    <tr>\n",
       "      <th>8295</th>\n",
       "      <td>1fvn2ms</td>\n",
       "      <td>https://i.redd.it/8t7zjcfh0nsd1.png</td>\n",
       "      <td>constantly on my feet, can't afford food but t...</td>\n",
       "      <td>NaN</td>\n",
       "      <td>14</td>\n",
       "      <td>1.728003e+09</td>\n",
       "      <td>EDanonymemes</td>\n",
       "      <td>1</td>\n",
       "      <td>1.00</td>\n",
       "      <td>False</td>\n",
       "    </tr>\n",
       "    <tr>\n",
       "      <th>8296</th>\n",
       "      <td>1fvn2lg</td>\n",
       "      <td>https://www.reddit.com/r/EatCheapAndHealthy/co...</td>\n",
       "      <td>Is it ok to eat this every day?</td>\n",
       "      <td>I go through periods of not wanting to cook an...</td>\n",
       "      <td>17</td>\n",
       "      <td>1.728003e+09</td>\n",
       "      <td>EatCheapAndHealthy</td>\n",
       "      <td>24</td>\n",
       "      <td>0.80</td>\n",
       "      <td>False</td>\n",
       "    </tr>\n",
       "    <tr>\n",
       "      <th>8297</th>\n",
       "      <td>1fvn2g2</td>\n",
       "      <td>https://www.reddit.com/r/Comebacks/comments/1f...</td>\n",
       "      <td>Comebacks for \"that never happened\"</td>\n",
       "      <td>One of those \"they expect this but they're goi...</td>\n",
       "      <td>3</td>\n",
       "      <td>1.728003e+09</td>\n",
       "      <td>Comebacks</td>\n",
       "      <td>52</td>\n",
       "      <td>0.71</td>\n",
       "      <td>False</td>\n",
       "    </tr>\n",
       "    <tr>\n",
       "      <th>8298</th>\n",
       "      <td>1fvn1bm</td>\n",
       "      <td>https://i.redd.it/lqlw3k450nsd1.jpeg</td>\n",
       "      <td>Almond Kiss</td>\n",
       "      <td>1.5oz amaretto, 1.5oz Kavi coffee whiskey, 0.7...</td>\n",
       "      <td>6</td>\n",
       "      <td>1.728003e+09</td>\n",
       "      <td>cocktails</td>\n",
       "      <td>0</td>\n",
       "      <td>0.88</td>\n",
       "      <td>False</td>\n",
       "    </tr>\n",
       "    <tr>\n",
       "      <th>8299</th>\n",
       "      <td>1fvn024</td>\n",
       "      <td>https://www.reddit.com/r/Parosmia/comments/1fv...</td>\n",
       "      <td>Anyone perceive things similarly to me?</td>\n",
       "      <td>I am AFAB, female-identifying. I mention this ...</td>\n",
       "      <td>0</td>\n",
       "      <td>1.728003e+09</td>\n",
       "      <td>Parosmia</td>\n",
       "      <td>1</td>\n",
       "      <td>0.33</td>\n",
       "      <td>False</td>\n",
       "    </tr>\n",
       "  </tbody>\n",
       "</table>\n",
       "<p>8300 rows × 10 columns</p>\n",
       "</div>"
      ],
      "text/plain": [
       "           id                                                url  \\\n",
       "0     1fxmtei  https://www.reddit.com/r/ucla/comments/1fxmtei...   \n",
       "1     1fxms88                https://i.redd.it/hvmfotrcf6td1.png   \n",
       "2     1fxmrv9  https://www.reddit.com/r/AffiliateCommunity/co...   \n",
       "3     1fxmrnq  https://www.reddit.com/r/relationship_advice/c...   \n",
       "4     1fxmr5d  https://www.reddit.com/r/CasualIreland/comment...   \n",
       "...       ...                                                ...   \n",
       "8295  1fvn2ms                https://i.redd.it/8t7zjcfh0nsd1.png   \n",
       "8296  1fvn2lg  https://www.reddit.com/r/EatCheapAndHealthy/co...   \n",
       "8297  1fvn2g2  https://www.reddit.com/r/Comebacks/comments/1f...   \n",
       "8298  1fvn1bm               https://i.redd.it/lqlw3k450nsd1.jpeg   \n",
       "8299  1fvn024  https://www.reddit.com/r/Parosmia/comments/1fv...   \n",
       "\n",
       "                                                  title  \\\n",
       "0     Can I email back consulting clubs to ask for a...   \n",
       "1                        Got 100 days of free coffee! 🥲   \n",
       "2                      30 percent commission! Easy sell   \n",
       "3     I (M28) confessed to my long time friend (F28)...   \n",
       "4     Is there a way to avoid having dinner with my ...   \n",
       "...                                                 ...   \n",
       "8295  constantly on my feet, can't afford food but t...   \n",
       "8296                   Is it ok to eat this every day?    \n",
       "8297                Comebacks for \"that never happened\"   \n",
       "8298                                        Almond Kiss   \n",
       "8299            Anyone perceive things similarly to me?   \n",
       "\n",
       "                                                   text  score   created_utc  \\\n",
       "0     My resume/application got rejected from a cons...      1  1.728238e+09   \n",
       "1     A local Dunkin was giving away these away to t...      1  1.728238e+09   \n",
       "2     I’d love to invite you to join the AVY Coffee ...      1  1.728238e+09   \n",
       "3     We’ve been friends for over 10 years. She brok...      1  1.728238e+09   \n",
       "4     I don't like having dinner with my mam!! For s...      1  1.728238e+09   \n",
       "...                                                 ...    ...           ...   \n",
       "8295                                                NaN     14  1.728003e+09   \n",
       "8296  I go through periods of not wanting to cook an...     17  1.728003e+09   \n",
       "8297  One of those \"they expect this but they're goi...      3  1.728003e+09   \n",
       "8298  1.5oz amaretto, 1.5oz Kavi coffee whiskey, 0.7...      6  1.728003e+09   \n",
       "8299  I am AFAB, female-identifying. I mention this ...      0  1.728003e+09   \n",
       "\n",
       "                subreddit  num_comments  upvote_ratio  over_18  \n",
       "0                    ucla             0          1.00    False  \n",
       "1            DunkinDonuts             0          1.00    False  \n",
       "2      AffiliateCommunity             0          1.00    False  \n",
       "3     relationship_advice             1          1.00    False  \n",
       "4           CasualIreland             0          0.67    False  \n",
       "...                   ...           ...           ...      ...  \n",
       "8295         EDanonymemes             1          1.00    False  \n",
       "8296   EatCheapAndHealthy            24          0.80    False  \n",
       "8297            Comebacks            52          0.71    False  \n",
       "8298            cocktails             0          0.88    False  \n",
       "8299             Parosmia             1          0.33    False  \n",
       "\n",
       "[8300 rows x 10 columns]"
      ]
     },
     "execution_count": 38,
     "metadata": {},
     "output_type": "execute_result"
    }
   ],
   "source": [
    "combined_df"
   ]
  },
  {
   "cell_type": "markdown",
   "id": "9c13a979-b7f8-4678-b574-02b28de7a3fe",
   "metadata": {},
   "source": [
    "## Merge Scraped data with Kaggle data"
   ]
  },
  {
   "cell_type": "code",
   "execution_count": 64,
   "id": "2542a5e4-f140-4349-b1a8-7f5b7f1ccc65",
   "metadata": {},
   "outputs": [],
   "source": [
    "df_final = pd.concat([df_kaggle, combined_df], ignore_index=True)"
   ]
  },
  {
   "cell_type": "code",
   "execution_count": 65,
   "id": "b6257633-3cfa-4469-a89c-6b49234ad8dd",
   "metadata": {},
   "outputs": [
    {
     "data": {
      "text/plain": [
       "(8489, 10)"
      ]
     },
     "execution_count": 65,
     "metadata": {},
     "output_type": "execute_result"
    }
   ],
   "source": [
    "df_final.shape"
   ]
  },
  {
   "cell_type": "code",
   "execution_count": 66,
   "id": "d9449d70-413b-4cdc-b90f-861aca563253",
   "metadata": {},
   "outputs": [
    {
     "name": "stdout",
     "output_type": "stream",
     "text": [
      "2024-10-07 22:10:18\n"
     ]
    },
    {
     "name": "stderr",
     "output_type": "stream",
     "text": [
      "/var/folders/6p/b8fsbws114377d5kxxk54hdm0000gn/T/ipykernel_53782/1628956749.py:2: DeprecationWarning: datetime.datetime.utcfromtimestamp() is deprecated and scheduled for removal in a future version. Use timezone-aware objects to represent datetimes in UTC: datetime.datetime.fromtimestamp(timestamp, datetime.UTC).\n",
      "  max_datetime = datetime.strftime(datetime.utcfromtimestamp(max_utc), \"%Y-%m-%d %H:%m:%S\")\n"
     ]
    }
   ],
   "source": [
    "max_utc = df_final['created_utc'].max()\n",
    "max_datetime = datetime.strftime(datetime.utcfromtimestamp(max_utc), \"%Y-%m-%d %H:%m:%S\")\n",
    "print(max_datetime)"
   ]
  },
  {
   "cell_type": "code",
   "execution_count": 71,
   "id": "c2bfde9b-306e-496b-bf58-a84d787befab",
   "metadata": {},
   "outputs": [],
   "source": [
    "df_final.drop_duplicates(inplace=True)"
   ]
  },
  {
   "cell_type": "code",
   "execution_count": 75,
   "id": "43660f83-7bab-4a2f-9a79-6efec01a8401",
   "metadata": {},
   "outputs": [
    {
     "data": {
      "text/plain": [
       "(8414, 10)"
      ]
     },
     "execution_count": 75,
     "metadata": {},
     "output_type": "execute_result"
    }
   ],
   "source": [
    "df_final.shape"
   ]
  },
  {
   "cell_type": "markdown",
   "id": "fbe69c66-bfb7-467a-8447-1f9397eb5cc0",
   "metadata": {},
   "source": [
    "## Upload to kaggle"
   ]
  },
  {
   "cell_type": "code",
   "execution_count": 72,
   "id": "b05ceba2-010d-47d6-a0f5-29f9ad06d7b3",
   "metadata": {},
   "outputs": [
    {
     "name": "stdout",
     "output_type": "stream",
     "text": [
      "reddit_coffee_scraper_till_2024-10-07 22:10:18\n"
     ]
    }
   ],
   "source": [
    "version_name = f\"reddit_coffee_scraper_till_{max_datetime}\"\n",
    "print(version_name)"
   ]
  },
  {
   "cell_type": "code",
   "execution_count": 73,
   "id": "b562f8a1-92ba-4b52-b86b-40207f06b45a",
   "metadata": {},
   "outputs": [],
   "source": [
    "df_final.to_csv(f\"kaggle_dataset/{version_name}.csv\", index=False)"
   ]
  },
  {
   "cell_type": "code",
   "execution_count": 74,
   "id": "02cfa218-e63f-4af8-a1f7-07a927b06f03",
   "metadata": {},
   "outputs": [
    {
     "name": "stdout",
     "output_type": "stream",
     "text": [
      "Warning: Your Kaggle API key is readable by other users on this system! To fix this, you can run 'chmod 600 /Users/parthshah/.kaggle/kaggle.json'\n",
      "Starting upload for file reddit_coffee_scraper_till_2024-10-07 22:10:18.csv\n"
     ]
    },
    {
     "name": "stderr",
     "output_type": "stream",
     "text": [
      "100%|██████████| 14.8M/14.8M [00:02<00:00, 5.40MB/s]\n",
      "  0%|          | 0.00/285 [00:00<?, ?B/s]"
     ]
    },
    {
     "name": "stdout",
     "output_type": "stream",
     "text": [
      "Upload successful: reddit_coffee_scraper_till_2024-10-07 22:10:18.csv (15MB)\n",
      "Starting upload for file .ipynb_checkpoints.zip\n"
     ]
    },
    {
     "name": "stderr",
     "output_type": "stream",
     "text": [
      "100%|██████████| 285/285 [00:00<00:00, 1.01kB/s]\n"
     ]
    },
    {
     "name": "stdout",
     "output_type": "stream",
     "text": [
      "Upload successful: .ipynb_checkpoints.zip (285B)\n",
      "Dataset version is being created. Please check progress at https://www.kaggle.com/shahp7575/reddit-posts-with-keyword-coffee\n"
     ]
    },
    {
     "data": {
      "text/plain": [
       "0"
      ]
     },
     "execution_count": 74,
     "metadata": {},
     "output_type": "execute_result"
    }
   ],
   "source": [
    "os.system(f'kaggle datasets version -p kaggle_dataset/ -m \"New data upload - {version_name}\" --dir-mode zip')"
   ]
  },
  {
   "cell_type": "code",
   "execution_count": null,
   "id": "0954fdce-17c5-44f8-9b94-b271808205c3",
   "metadata": {},
   "outputs": [],
   "source": []
  },
  {
   "cell_type": "code",
   "execution_count": null,
   "id": "0f97bf93-fbbf-4962-8516-da784d8c21ac",
   "metadata": {},
   "outputs": [],
   "source": []
  },
  {
   "cell_type": "code",
   "execution_count": null,
   "id": "9965b230-060d-4f76-9d2b-eef8e53804ed",
   "metadata": {},
   "outputs": [],
   "source": []
  },
  {
   "cell_type": "code",
   "execution_count": null,
   "id": "0888bba3-dd58-4f3f-80af-7e01aee274a4",
   "metadata": {},
   "outputs": [],
   "source": []
  },
  {
   "cell_type": "code",
   "execution_count": null,
   "id": "1711bf7a-494f-43bb-a50d-956aeb7b072e",
   "metadata": {},
   "outputs": [],
   "source": []
  },
  {
   "cell_type": "code",
   "execution_count": null,
   "id": "4b4ce265-d9cc-4b07-bb52-8f227d663947",
   "metadata": {},
   "outputs": [],
   "source": []
  },
  {
   "cell_type": "code",
   "execution_count": null,
   "id": "fa0a1852-297e-4741-bbbd-65bbf56d924b",
   "metadata": {},
   "outputs": [],
   "source": []
  }
 ],
 "metadata": {
  "kernelspec": {
   "display_name": "Coffee Scraper Kernel",
   "language": "python",
   "name": "coffee_scraper"
  },
  "language_info": {
   "codemirror_mode": {
    "name": "ipython",
    "version": 3
   },
   "file_extension": ".py",
   "mimetype": "text/x-python",
   "name": "python",
   "nbconvert_exporter": "python",
   "pygments_lexer": "ipython3",
   "version": "3.12.5"
  }
 },
 "nbformat": 4,
 "nbformat_minor": 5
}
