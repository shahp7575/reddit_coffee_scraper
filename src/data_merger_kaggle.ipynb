{
 "cells": [
  {
   "cell_type": "code",
   "execution_count": 1,
   "id": "6ee3ea90-e254-41df-8e79-0aa8e013cdfb",
   "metadata": {},
   "outputs": [
    {
     "name": "stdout",
     "output_type": "stream",
     "text": [
      "Warning: Your Kaggle API key is readable by other users on this system! To fix this, you can run 'chmod 600 /Users/parthshah/.kaggle/kaggle.json'\n"
     ]
    }
   ],
   "source": [
    "import pandas as pd\n",
    "import os\n",
    "import glob\n",
    "import kaggle\n",
    "from datetime import datetime"
   ]
  },
  {
   "cell_type": "markdown",
   "id": "5a24359b-6bb9-4ab2-8e85-3d1b070c103e",
   "metadata": {},
   "source": [
    "## Download dataset from kaggle"
   ]
  },
  {
   "cell_type": "code",
   "execution_count": 22,
   "id": "76b461ac-7d27-42a8-9ac8-dbdda49ddfe2",
   "metadata": {},
   "outputs": [
    {
     "name": "stdout",
     "output_type": "stream",
     "text": [
      "Warning: Your Kaggle API key is readable by other users on this system! To fix this, you can run 'chmod 600 /Users/parthshah/.kaggle/kaggle.json'\n",
      "Dataset URL: https://www.kaggle.com/datasets/shahp7575/reddit-posts-with-keyword-coffee/versions/\n",
      "License(s): MIT\n",
      "Downloading reddit-posts-with-keyword-coffee.zip to kaggle_dataset\n"
     ]
    },
    {
     "name": "stderr",
     "output_type": "stream",
     "text": [
      "100%|██████████| 19.4M/19.4M [00:00<00:00, 56.4MB/s]\n"
     ]
    },
    {
     "name": "stdout",
     "output_type": "stream",
     "text": [
      "\n"
     ]
    },
    {
     "data": {
      "text/plain": [
       "0"
      ]
     },
     "execution_count": 22,
     "metadata": {},
     "output_type": "execute_result"
    }
   ],
   "source": [
    "download_path = \"kaggle_dataset/\"\n",
    "dataset_slug = \"shahp7575/reddit-posts-with-keyword-coffee/\"\n",
    "os.system(f'kaggle datasets download -d {dataset_slug} -p {download_path} --unzip')"
   ]
  },
  {
   "cell_type": "code",
   "execution_count": 23,
   "id": "289c81b5-ffc8-413c-a284-4755521f93eb",
   "metadata": {},
   "outputs": [],
   "source": [
    "# remove the file present in kaggle_dataset directory first, then run the below command"
   ]
  },
  {
   "cell_type": "code",
   "execution_count": 24,
   "id": "76cce2a2-9249-49bb-b96c-a1eb486fa374",
   "metadata": {},
   "outputs": [],
   "source": [
    "kaggle_csv = glob.glob(download_path + \"*.csv\")[0]"
   ]
  },
  {
   "cell_type": "code",
   "execution_count": 25,
   "id": "e69a9020-3145-48d7-b46f-deb8da84dd97",
   "metadata": {},
   "outputs": [
    {
     "data": {
      "text/plain": [
       "'kaggle_dataset/reddit_coffee_scraper_till_2024-10-21 16:10:26.csv'"
      ]
     },
     "execution_count": 25,
     "metadata": {},
     "output_type": "execute_result"
    }
   ],
   "source": [
    "kaggle_csv"
   ]
  },
  {
   "cell_type": "code",
   "execution_count": 26,
   "id": "da9067d0-e204-4dba-a900-9c249683927a",
   "metadata": {},
   "outputs": [],
   "source": [
    "df_kaggle = pd.read_csv(kaggle_csv)"
   ]
  },
  {
   "cell_type": "code",
   "execution_count": 27,
   "id": "e3154c42-ebd3-4e4f-978f-02a408c00e74",
   "metadata": {},
   "outputs": [
    {
     "data": {
      "text/plain": [
       "(30255, 10)"
      ]
     },
     "execution_count": 27,
     "metadata": {},
     "output_type": "execute_result"
    }
   ],
   "source": [
    "df_kaggle.shape"
   ]
  },
  {
   "cell_type": "markdown",
   "id": "a296b07e-6ad7-4f39-996f-08076b97a353",
   "metadata": {},
   "source": [
    "## Read Scraped data"
   ]
  },
  {
   "cell_type": "code",
   "execution_count": 28,
   "id": "5609b792-749d-4f70-aae2-2e47d124727b",
   "metadata": {},
   "outputs": [],
   "source": [
    "DATA_PATH = \"../data/\"\n",
    "CSV_FILES = glob.glob(DATA_PATH + \"*.csv\")"
   ]
  },
  {
   "cell_type": "code",
   "execution_count": 29,
   "id": "1661e481-b4f7-4fae-a4f0-f1b4d576f131",
   "metadata": {},
   "outputs": [
    {
     "data": {
      "text/plain": [
       "['../data/reddit_coffee_posts_1730052680_1730059880.csv',\n",
       " '../data/reddit_coffee_posts_1730686415_1730693615.csv',\n",
       " '../data/reddit_coffee_posts_1730700898_1730708098.csv',\n",
       " '../data/reddit_coffee_posts_1729765172_1729772372.csv',\n",
       " '../data/reddit_coffee_posts_1731096595_1731103795.csv',\n",
       " '../data/reddit_coffee_posts_1730254414_1730261614.csv',\n",
       " '../data/reddit_coffee_posts_1730355213_1730362413.csv',\n",
       " '../data/reddit_coffee_posts_1730376637_1730383837.csv',\n",
       " '../data/reddit_coffee_posts_1729872842_1729880042.csv',\n",
       " '../data/reddit_coffee_posts_1729599009_1729606209.csv']"
      ]
     },
     "execution_count": 29,
     "metadata": {},
     "output_type": "execute_result"
    }
   ],
   "source": [
    "CSV_FILES[:10]"
   ]
  },
  {
   "cell_type": "code",
   "execution_count": 30,
   "id": "23b4759a-5b7a-4ef5-9528-478cab71e510",
   "metadata": {},
   "outputs": [
    {
     "data": {
      "text/plain": [
       "268"
      ]
     },
     "execution_count": 30,
     "metadata": {},
     "output_type": "execute_result"
    }
   ],
   "source": [
    "len(CSV_FILES)"
   ]
  },
  {
   "cell_type": "code",
   "execution_count": 31,
   "id": "472658f5-93f8-484a-9baf-7d87603a2c65",
   "metadata": {},
   "outputs": [],
   "source": [
    "df_list = []"
   ]
  },
  {
   "cell_type": "code",
   "execution_count": 32,
   "id": "6fb15d35-ae7f-49a4-9803-c8866cbf0ca1",
   "metadata": {},
   "outputs": [],
   "source": [
    "for f in CSV_FILES:\n",
    "    df = pd.read_csv(f)\n",
    "    df_list.append(df)"
   ]
  },
  {
   "cell_type": "code",
   "execution_count": 33,
   "id": "bed0224a-6aad-486b-9ae5-48d909329c5c",
   "metadata": {},
   "outputs": [],
   "source": [
    "combined_df = pd.concat(df_list, ignore_index=True)"
   ]
  },
  {
   "cell_type": "code",
   "execution_count": 34,
   "id": "031eb03f-7931-470e-a3bc-c9da75d91e75",
   "metadata": {},
   "outputs": [
    {
     "data": {
      "text/plain": [
       "(36889, 10)"
      ]
     },
     "execution_count": 34,
     "metadata": {},
     "output_type": "execute_result"
    }
   ],
   "source": [
    "combined_df.shape"
   ]
  },
  {
   "cell_type": "code",
   "execution_count": 35,
   "id": "2bc9c9f5-6dc7-4890-aa0a-390d98405efa",
   "metadata": {},
   "outputs": [
    {
     "data": {
      "text/html": [
       "<div>\n",
       "<style scoped>\n",
       "    .dataframe tbody tr th:only-of-type {\n",
       "        vertical-align: middle;\n",
       "    }\n",
       "\n",
       "    .dataframe tbody tr th {\n",
       "        vertical-align: top;\n",
       "    }\n",
       "\n",
       "    .dataframe thead th {\n",
       "        text-align: right;\n",
       "    }\n",
       "</style>\n",
       "<table border=\"1\" class=\"dataframe\">\n",
       "  <thead>\n",
       "    <tr style=\"text-align: right;\">\n",
       "      <th></th>\n",
       "      <th>id</th>\n",
       "      <th>url</th>\n",
       "      <th>title</th>\n",
       "      <th>text</th>\n",
       "      <th>score</th>\n",
       "      <th>created_utc</th>\n",
       "      <th>subreddit</th>\n",
       "      <th>num_comments</th>\n",
       "      <th>upvote_ratio</th>\n",
       "      <th>over_18</th>\n",
       "    </tr>\n",
       "  </thead>\n",
       "  <tbody>\n",
       "    <tr>\n",
       "      <th>22001</th>\n",
       "      <td>1giuiu5</td>\n",
       "      <td>https://www.reddit.com/r/ToBeMagneticSnark/com...</td>\n",
       "      <td>Canceling for the first time in 5 years</td>\n",
       "      <td>TBM was kind of instrumental in helping me fac...</td>\n",
       "      <td>6</td>\n",
       "      <td>1.730661e+09</td>\n",
       "      <td>ToBeMagneticSnark</td>\n",
       "      <td>5</td>\n",
       "      <td>1.0</td>\n",
       "      <td>False</td>\n",
       "    </tr>\n",
       "    <tr>\n",
       "      <th>36257</th>\n",
       "      <td>1gnny0f</td>\n",
       "      <td>https://www.reddit.com/r/decaf/comments/1gnny0...</td>\n",
       "      <td>Are we addicted to the methyl groups of caffeine?</td>\n",
       "      <td>Caffeine/trimethylxanthine is an exceptionally...</td>\n",
       "      <td>4</td>\n",
       "      <td>1.731198e+09</td>\n",
       "      <td>decaf</td>\n",
       "      <td>0</td>\n",
       "      <td>1.0</td>\n",
       "      <td>False</td>\n",
       "    </tr>\n",
       "  </tbody>\n",
       "</table>\n",
       "</div>"
      ],
      "text/plain": [
       "            id                                                url  \\\n",
       "22001  1giuiu5  https://www.reddit.com/r/ToBeMagneticSnark/com...   \n",
       "36257  1gnny0f  https://www.reddit.com/r/decaf/comments/1gnny0...   \n",
       "\n",
       "                                                   title  \\\n",
       "22001            Canceling for the first time in 5 years   \n",
       "36257  Are we addicted to the methyl groups of caffeine?   \n",
       "\n",
       "                                                    text  score   created_utc  \\\n",
       "22001  TBM was kind of instrumental in helping me fac...      6  1.730661e+09   \n",
       "36257  Caffeine/trimethylxanthine is an exceptionally...      4  1.731198e+09   \n",
       "\n",
       "               subreddit  num_comments  upvote_ratio  over_18  \n",
       "22001  ToBeMagneticSnark             5           1.0    False  \n",
       "36257              decaf             0           1.0    False  "
      ]
     },
     "execution_count": 35,
     "metadata": {},
     "output_type": "execute_result"
    }
   ],
   "source": [
    "combined_df.sample(2)"
   ]
  },
  {
   "cell_type": "markdown",
   "id": "9c13a979-b7f8-4678-b574-02b28de7a3fe",
   "metadata": {},
   "source": [
    "## Merge Scraped data with Kaggle data"
   ]
  },
  {
   "cell_type": "code",
   "execution_count": 36,
   "id": "2542a5e4-f140-4349-b1a8-7f5b7f1ccc65",
   "metadata": {},
   "outputs": [],
   "source": [
    "df_final = pd.concat([df_kaggle, combined_df], ignore_index=True)"
   ]
  },
  {
   "cell_type": "code",
   "execution_count": 37,
   "id": "b6257633-3cfa-4469-a89c-6b49234ad8dd",
   "metadata": {},
   "outputs": [
    {
     "data": {
      "text/plain": [
       "(67144, 10)"
      ]
     },
     "execution_count": 37,
     "metadata": {},
     "output_type": "execute_result"
    }
   ],
   "source": [
    "df_final.shape"
   ]
  },
  {
   "cell_type": "code",
   "execution_count": 38,
   "id": "d9449d70-413b-4cdc-b90f-861aca563253",
   "metadata": {},
   "outputs": [
    {
     "name": "stdout",
     "output_type": "stream",
     "text": [
      "2024-11-13 04:11:37\n"
     ]
    },
    {
     "name": "stderr",
     "output_type": "stream",
     "text": [
      "/var/folders/6p/b8fsbws114377d5kxxk54hdm0000gn/T/ipykernel_31242/1628956749.py:2: DeprecationWarning: datetime.datetime.utcfromtimestamp() is deprecated and scheduled for removal in a future version. Use timezone-aware objects to represent datetimes in UTC: datetime.datetime.fromtimestamp(timestamp, datetime.UTC).\n",
      "  max_datetime = datetime.strftime(datetime.utcfromtimestamp(max_utc), \"%Y-%m-%d %H:%m:%S\")\n"
     ]
    }
   ],
   "source": [
    "max_utc = df_final['created_utc'].max()\n",
    "max_datetime = datetime.strftime(datetime.utcfromtimestamp(max_utc), \"%Y-%m-%d %H:%m:%S\")\n",
    "print(max_datetime)"
   ]
  },
  {
   "cell_type": "code",
   "execution_count": 39,
   "id": "c2bfde9b-306e-496b-bf58-a84d787befab",
   "metadata": {},
   "outputs": [],
   "source": [
    "df_final.drop_duplicates(inplace=True)"
   ]
  },
  {
   "cell_type": "code",
   "execution_count": 40,
   "id": "43660f83-7bab-4a2f-9a79-6efec01a8401",
   "metadata": {},
   "outputs": [
    {
     "data": {
      "text/plain": [
       "(66826, 10)"
      ]
     },
     "execution_count": 40,
     "metadata": {},
     "output_type": "execute_result"
    }
   ],
   "source": [
    "df_final.shape"
   ]
  },
  {
   "cell_type": "markdown",
   "id": "fbe69c66-bfb7-467a-8447-1f9397eb5cc0",
   "metadata": {},
   "source": [
    "## Upload to kaggle"
   ]
  },
  {
   "cell_type": "code",
   "execution_count": 45,
   "id": "b05ceba2-010d-47d6-a0f5-29f9ad06d7b3",
   "metadata": {},
   "outputs": [
    {
     "name": "stdout",
     "output_type": "stream",
     "text": [
      "reddit_coffee_scraper_till_2024-11-13 04:11:37\n"
     ]
    }
   ],
   "source": [
    "version_name = f\"reddit_coffee_scraper_till_{max_datetime}\"\n",
    "print(version_name)"
   ]
  },
  {
   "cell_type": "code",
   "execution_count": 46,
   "id": "b562f8a1-92ba-4b52-b86b-40207f06b45a",
   "metadata": {},
   "outputs": [],
   "source": [
    "df_final.to_csv(f\"kaggle_dataset/{version_name}.csv\", index=False)"
   ]
  },
  {
   "cell_type": "code",
   "execution_count": 47,
   "id": "8d18a2ca-e942-41b9-8bca-7b2d5d1a147e",
   "metadata": {},
   "outputs": [],
   "source": [
    "# delete the old versions from the directory kaggle_dataset/ first, then run below command"
   ]
  },
  {
   "cell_type": "code",
   "execution_count": 48,
   "id": "02cfa218-e63f-4af8-a1f7-07a927b06f03",
   "metadata": {},
   "outputs": [
    {
     "name": "stdout",
     "output_type": "stream",
     "text": [
      "Warning: Your Kaggle API key is readable by other users on this system! To fix this, you can run 'chmod 600 /Users/parthshah/.kaggle/kaggle.json'\n",
      "Starting upload for file reddit_coffee_scraper_till_2024-11-13 04:11:37.csv\n"
     ]
    },
    {
     "name": "stderr",
     "output_type": "stream",
     "text": [
      "100%|██████████| 113M/113M [00:05<00:00, 21.5MB/s] \n",
      "  0%|          | 0.00/285 [00:00<?, ?B/s]"
     ]
    },
    {
     "name": "stdout",
     "output_type": "stream",
     "text": [
      "Upload successful: reddit_coffee_scraper_till_2024-11-13 04:11:37.csv (113MB)\n",
      "Starting upload for file .ipynb_checkpoints.zip\n"
     ]
    },
    {
     "name": "stderr",
     "output_type": "stream",
     "text": [
      "100%|██████████| 285/285 [00:00<00:00, 900B/s]\n"
     ]
    },
    {
     "name": "stdout",
     "output_type": "stream",
     "text": [
      "Upload successful: .ipynb_checkpoints.zip (285B)\n",
      "Dataset version is being created. Please check progress at https://www.kaggle.com/shahp7575/reddit-posts-with-keyword-coffee\n"
     ]
    },
    {
     "data": {
      "text/plain": [
       "0"
      ]
     },
     "execution_count": 48,
     "metadata": {},
     "output_type": "execute_result"
    }
   ],
   "source": [
    "os.system(f'kaggle datasets version -p kaggle_dataset/ -m \"New data upload - {version_name}\" --dir-mode zip')"
   ]
  },
  {
   "cell_type": "code",
   "execution_count": null,
   "id": "0f97bf93-fbbf-4962-8516-da784d8c21ac",
   "metadata": {},
   "outputs": [],
   "source": []
  },
  {
   "cell_type": "code",
   "execution_count": null,
   "id": "9965b230-060d-4f76-9d2b-eef8e53804ed",
   "metadata": {},
   "outputs": [],
   "source": []
  },
  {
   "cell_type": "code",
   "execution_count": null,
   "id": "0888bba3-dd58-4f3f-80af-7e01aee274a4",
   "metadata": {},
   "outputs": [],
   "source": []
  },
  {
   "cell_type": "code",
   "execution_count": null,
   "id": "1711bf7a-494f-43bb-a50d-956aeb7b072e",
   "metadata": {},
   "outputs": [],
   "source": []
  },
  {
   "cell_type": "code",
   "execution_count": null,
   "id": "4b4ce265-d9cc-4b07-bb52-8f227d663947",
   "metadata": {},
   "outputs": [],
   "source": []
  },
  {
   "cell_type": "code",
   "execution_count": null,
   "id": "fa0a1852-297e-4741-bbbd-65bbf56d924b",
   "metadata": {},
   "outputs": [],
   "source": []
  }
 ],
 "metadata": {
  "kernelspec": {
   "display_name": "Coffee Scraper Kernel",
   "language": "python",
   "name": "coffee_scraper"
  },
  "language_info": {
   "codemirror_mode": {
    "name": "ipython",
    "version": 3
   },
   "file_extension": ".py",
   "mimetype": "text/x-python",
   "name": "python",
   "nbconvert_exporter": "python",
   "pygments_lexer": "ipython3",
   "version": "3.12.5"
  }
 },
 "nbformat": 4,
 "nbformat_minor": 5
}
