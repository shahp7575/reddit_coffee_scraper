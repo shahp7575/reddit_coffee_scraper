{
 "cells": [
  {
   "cell_type": "code",
   "execution_count": 1,
   "id": "6ee3ea90-e254-41df-8e79-0aa8e013cdfb",
   "metadata": {},
   "outputs": [
    {
     "name": "stdout",
     "output_type": "stream",
     "text": [
      "Warning: Your Kaggle API key is readable by other users on this system! To fix this, you can run 'chmod 600 /Users/parthshah/.kaggle/kaggle.json'\n"
     ]
    }
   ],
   "source": [
    "import pandas as pd\n",
    "import os\n",
    "import glob\n",
    "import kaggle\n",
    "from datetime import datetime"
   ]
  },
  {
   "cell_type": "markdown",
   "id": "5a24359b-6bb9-4ab2-8e85-3d1b070c103e",
   "metadata": {},
   "source": [
    "## Download dataset from kaggle"
   ]
  },
  {
   "cell_type": "code",
   "execution_count": 2,
   "id": "76b461ac-7d27-42a8-9ac8-dbdda49ddfe2",
   "metadata": {},
   "outputs": [
    {
     "name": "stdout",
     "output_type": "stream",
     "text": [
      "Warning: Your Kaggle API key is readable by other users on this system! To fix this, you can run 'chmod 600 /Users/parthshah/.kaggle/kaggle.json'\n",
      "Dataset URL: https://www.kaggle.com/datasets/shahp7575/reddit-posts-with-keyword-coffee/versions/\n",
      "License(s): MIT\n",
      "Downloading reddit-posts-with-keyword-coffee.zip to kaggle_dataset\n"
     ]
    },
    {
     "name": "stderr",
     "output_type": "stream",
     "text": [
      "100%|██████████| 5.39M/5.39M [00:00<00:00, 29.1MB/s]\n"
     ]
    },
    {
     "name": "stdout",
     "output_type": "stream",
     "text": [
      "\n"
     ]
    },
    {
     "data": {
      "text/plain": [
       "0"
      ]
     },
     "execution_count": 2,
     "metadata": {},
     "output_type": "execute_result"
    }
   ],
   "source": [
    "download_path = \"kaggle_dataset/\"\n",
    "dataset_slug = \"shahp7575/reddit-posts-with-keyword-coffee/\"\n",
    "os.system(f'kaggle datasets download -d {dataset_slug} -p {download_path} --unzip')"
   ]
  },
  {
   "cell_type": "code",
   "execution_count": 4,
   "id": "289c81b5-ffc8-413c-a284-4755521f93eb",
   "metadata": {},
   "outputs": [],
   "source": [
    "# remove the file present in kaggle_dataset directory first, then run the below command"
   ]
  },
  {
   "cell_type": "code",
   "execution_count": 5,
   "id": "76cce2a2-9249-49bb-b96c-a1eb486fa374",
   "metadata": {},
   "outputs": [],
   "source": [
    "kaggle_csv = glob.glob(download_path + \"*.csv\")[0]"
   ]
  },
  {
   "cell_type": "code",
   "execution_count": 6,
   "id": "da9067d0-e204-4dba-a900-9c249683927a",
   "metadata": {},
   "outputs": [],
   "source": [
    "df_kaggle = pd.read_csv(kaggle_csv)"
   ]
  },
  {
   "cell_type": "code",
   "execution_count": 7,
   "id": "e3154c42-ebd3-4e4f-978f-02a408c00e74",
   "metadata": {},
   "outputs": [
    {
     "data": {
      "text/plain": [
       "(8414, 10)"
      ]
     },
     "execution_count": 7,
     "metadata": {},
     "output_type": "execute_result"
    }
   ],
   "source": [
    "df_kaggle.shape"
   ]
  },
  {
   "cell_type": "markdown",
   "id": "a296b07e-6ad7-4f39-996f-08076b97a353",
   "metadata": {},
   "source": [
    "## Read Scraped data"
   ]
  },
  {
   "cell_type": "code",
   "execution_count": 8,
   "id": "5609b792-749d-4f70-aae2-2e47d124727b",
   "metadata": {},
   "outputs": [],
   "source": [
    "DATA_PATH = \"../data/\"\n",
    "CSV_FILES = glob.glob(DATA_PATH + \"*.csv\")"
   ]
  },
  {
   "cell_type": "code",
   "execution_count": 9,
   "id": "1661e481-b4f7-4fae-a4f0-f1b4d576f131",
   "metadata": {
    "collapsed": true,
    "jupyter": {
     "outputs_hidden": true
    }
   },
   "outputs": [
    {
     "data": {
      "text/plain": [
       "['../data/reddit_coffee_posts_1728353592_1728360792.csv',\n",
       " '../data/reddit_coffee_posts_1728547888_1728555088.csv',\n",
       " '../data/reddit_coffee_posts_1728576832_1728584032.csv',\n",
       " '../data/reddit_coffee_posts_1728483162_1728490362.csv',\n",
       " '../data/reddit_coffee_posts_1728634255_1728641455.csv',\n",
       " '../data/reddit_coffee_posts_1728360924_1728368124.csv',\n",
       " '../data/reddit_coffee_posts_1728677368_1728684568.csv',\n",
       " '../data/reddit_coffee_posts_1728562219_1728569419.csv',\n",
       " '../data/reddit_coffee_posts_1728410973_1728418173.csv',\n",
       " '../data/reddit_coffee_posts_1728461483_1728468683.csv',\n",
       " '../data/reddit_coffee_posts_1728434654_1728441854.csv',\n",
       " '../data/reddit_coffee_posts_1728454443_1728461643.csv',\n",
       " '../data/reddit_coffee_posts_1728504609_1728511809.csv',\n",
       " '../data/reddit_coffee_posts_1728490411_1728497611.csv',\n",
       " '../data/reddit_coffee_posts_1728447308_1728454508.csv',\n",
       " '../data/reddit_coffee_posts_1728569550_1728576750.csv',\n",
       " '../data/reddit_coffee_posts_1728514112_1728521312.csv',\n",
       " '../data/reddit_coffee_posts_1728526383_1728533583.csv',\n",
       " '../data/reddit_coffee_posts_1728521069_1728528269.csv',\n",
       " '../data/reddit_coffee_posts_1728583917_1728591117.csv',\n",
       " '../data/reddit_coffee_posts_1728375085_1728382285.csv',\n",
       " '../data/reddit_coffee_posts_1728418221_1728425421.csv',\n",
       " '../data/reddit_coffee_posts_1728600525_1728607725.csv',\n",
       " '../data/reddit_coffee_posts_1728555566_1728562766.csv',\n",
       " '../data/reddit_coffee_posts_1728475813_1728483013.csv',\n",
       " '../data/reddit_coffee_posts_1728648624_1728655824.csv',\n",
       " '../data/reddit_coffee_posts_1728469181_1728476381.csv',\n",
       " '../data/reddit_coffee_posts_1728663244_1728670444.csv',\n",
       " '../data/reddit_coffee_posts_1728115791_1728122991.csv',\n",
       " '../data/reddit_coffee_posts_1728404042_1728411242.csv',\n",
       " '../data/reddit_coffee_posts_1728591026_1728598226.csv',\n",
       " '../data/reddit_coffee_posts_1728368131_1728375331.csv',\n",
       " '../data/reddit_coffee_posts_1728540827_1728548027.csv',\n",
       " '../data/reddit_coffee_posts_1728670274_1728677474.csv',\n",
       " '../data/reddit_coffee_posts_1728533711_1728540911.csv',\n",
       " '../data/reddit_coffee_posts_1728439987_1728447187.csv',\n",
       " '../data/reddit_coffee_posts_1728348519_1728355719.csv',\n",
       " '../data/reddit_coffee_posts_1728612798_1728619998.csv',\n",
       " '../data/reddit_coffee_posts_1728396793_1728403993.csv',\n",
       " '../data/reddit_coffee_posts_1728389532_1728396732.csv',\n",
       " '../data/reddit_coffee_posts_1728427705_1728434905.csv',\n",
       " '../data/reddit_coffee_posts_1728382789_1728389989.csv',\n",
       " '../data/reddit_coffee_posts_1728641962_1728649162.csv',\n",
       " '../data/reddit_coffee_posts_1728341331_1728348531.csv',\n",
       " '../data/reddit_coffee_posts_1728497507_1728504707.csv',\n",
       " '../data/reddit_coffee_posts_1728607406_1728614606.csv',\n",
       " '../data/reddit_coffee_posts_1728627266_1728634466.csv',\n",
       " '../data/reddit_coffee_posts_1728620111_1728627311.csv',\n",
       " '../data/reddit_coffee_posts_1728655958_1728663158.csv']"
      ]
     },
     "execution_count": 9,
     "metadata": {},
     "output_type": "execute_result"
    }
   ],
   "source": [
    "CSV_FILES"
   ]
  },
  {
   "cell_type": "code",
   "execution_count": 10,
   "id": "472658f5-93f8-484a-9baf-7d87603a2c65",
   "metadata": {},
   "outputs": [],
   "source": [
    "df_list = []"
   ]
  },
  {
   "cell_type": "code",
   "execution_count": 11,
   "id": "6fb15d35-ae7f-49a4-9803-c8866cbf0ca1",
   "metadata": {},
   "outputs": [],
   "source": [
    "for f in CSV_FILES:\n",
    "    df = pd.read_csv(f)\n",
    "    df_list.append(df)"
   ]
  },
  {
   "cell_type": "code",
   "execution_count": 12,
   "id": "bed0224a-6aad-486b-9ae5-48d909329c5c",
   "metadata": {},
   "outputs": [],
   "source": [
    "combined_df = pd.concat(df_list, ignore_index=True)"
   ]
  },
  {
   "cell_type": "code",
   "execution_count": 13,
   "id": "031eb03f-7931-470e-a3bc-c9da75d91e75",
   "metadata": {},
   "outputs": [
    {
     "data": {
      "text/plain": [
       "(6490, 10)"
      ]
     },
     "execution_count": 13,
     "metadata": {},
     "output_type": "execute_result"
    }
   ],
   "source": [
    "combined_df.shape"
   ]
  },
  {
   "cell_type": "code",
   "execution_count": 14,
   "id": "2bc9c9f5-6dc7-4890-aa0a-390d98405efa",
   "metadata": {
    "collapsed": true,
    "jupyter": {
     "outputs_hidden": true
    }
   },
   "outputs": [
    {
     "data": {
      "text/html": [
       "<div>\n",
       "<style scoped>\n",
       "    .dataframe tbody tr th:only-of-type {\n",
       "        vertical-align: middle;\n",
       "    }\n",
       "\n",
       "    .dataframe tbody tr th {\n",
       "        vertical-align: top;\n",
       "    }\n",
       "\n",
       "    .dataframe thead th {\n",
       "        text-align: right;\n",
       "    }\n",
       "</style>\n",
       "<table border=\"1\" class=\"dataframe\">\n",
       "  <thead>\n",
       "    <tr style=\"text-align: right;\">\n",
       "      <th></th>\n",
       "      <th>id</th>\n",
       "      <th>url</th>\n",
       "      <th>title</th>\n",
       "      <th>text</th>\n",
       "      <th>score</th>\n",
       "      <th>created_utc</th>\n",
       "      <th>subreddit</th>\n",
       "      <th>num_comments</th>\n",
       "      <th>upvote_ratio</th>\n",
       "      <th>over_18</th>\n",
       "    </tr>\n",
       "  </thead>\n",
       "  <tbody>\n",
       "    <tr>\n",
       "      <th>0</th>\n",
       "      <td>1fyrd3v</td>\n",
       "      <td>https://www.reddit.com/gallery/1fyrd3v</td>\n",
       "      <td>Kitchen supplies sale (discount if buy multipl...</td>\n",
       "      <td>(PM for more pictures and info) \\n- Instapot 7...</td>\n",
       "      <td>1</td>\n",
       "      <td>1.728361e+09</td>\n",
       "      <td>UCSDclassifieds</td>\n",
       "      <td>1</td>\n",
       "      <td>1.00</td>\n",
       "      <td>False</td>\n",
       "    </tr>\n",
       "    <tr>\n",
       "      <th>1</th>\n",
       "      <td>1fyrcxa</td>\n",
       "      <td>https://www.reddit.com/r/offmychest/comments/1...</td>\n",
       "      <td>Worst birthday ever(rant)</td>\n",
       "      <td>I've been thinking about writing in here for a...</td>\n",
       "      <td>1</td>\n",
       "      <td>1.728361e+09</td>\n",
       "      <td>offmychest</td>\n",
       "      <td>0</td>\n",
       "      <td>1.00</td>\n",
       "      <td>False</td>\n",
       "    </tr>\n",
       "    <tr>\n",
       "      <th>2</th>\n",
       "      <td>1fyrag5</td>\n",
       "      <td>https://www.reddit.com/r/Beading/comments/1fyr...</td>\n",
       "      <td>My pets are conspiring against me.</td>\n",
       "      <td>I left a tube of beads on the coffee table and...</td>\n",
       "      <td>1</td>\n",
       "      <td>1.728360e+09</td>\n",
       "      <td>Beading</td>\n",
       "      <td>1</td>\n",
       "      <td>1.00</td>\n",
       "      <td>False</td>\n",
       "    </tr>\n",
       "    <tr>\n",
       "      <th>3</th>\n",
       "      <td>1fyr9y8</td>\n",
       "      <td>https://www.reddit.com/r/tharookhaulersnark/co...</td>\n",
       "      <td>omg i just laughed out loud when he mentioned ...</td>\n",
       "      <td>bruhhhhh i forgot this man is a self declared ...</td>\n",
       "      <td>1</td>\n",
       "      <td>1.728360e+09</td>\n",
       "      <td>tharookhaulersnark</td>\n",
       "      <td>0</td>\n",
       "      <td>1.00</td>\n",
       "      <td>False</td>\n",
       "    </tr>\n",
       "    <tr>\n",
       "      <th>4</th>\n",
       "      <td>1fyr925</td>\n",
       "      <td>https://i.redd.it/wc9gb4mjigtd1.jpeg</td>\n",
       "      <td>coloring book!</td>\n",
       "      <td>i’ve posted a few of my drawings, and i wanted...</td>\n",
       "      <td>2</td>\n",
       "      <td>1.728360e+09</td>\n",
       "      <td>gamegrumps</td>\n",
       "      <td>0</td>\n",
       "      <td>1.00</td>\n",
       "      <td>False</td>\n",
       "    </tr>\n",
       "    <tr>\n",
       "      <th>...</th>\n",
       "      <td>...</td>\n",
       "      <td>...</td>\n",
       "      <td>...</td>\n",
       "      <td>...</td>\n",
       "      <td>...</td>\n",
       "      <td>...</td>\n",
       "      <td>...</td>\n",
       "      <td>...</td>\n",
       "      <td>...</td>\n",
       "      <td>...</td>\n",
       "    </tr>\n",
       "    <tr>\n",
       "      <th>6485</th>\n",
       "      <td>1g1atmu</td>\n",
       "      <td>https://i.redd.it/wkcz8gd7y4ud1.jpeg</td>\n",
       "      <td>Coffee on the go today</td>\n",
       "      <td>NaN</td>\n",
       "      <td>1</td>\n",
       "      <td>1.728656e+09</td>\n",
       "      <td>SFWAmIHot</td>\n",
       "      <td>1</td>\n",
       "      <td>1.00</td>\n",
       "      <td>False</td>\n",
       "    </tr>\n",
       "    <tr>\n",
       "      <th>6486</th>\n",
       "      <td>1g1asy7</td>\n",
       "      <td>https://www.reddit.com/r/austinfood/comments/1...</td>\n",
       "      <td>First-Time Austin Visitor - Feedback on My Res...</td>\n",
       "      <td>Hey y’all! My wife and I are visiting Austin f...</td>\n",
       "      <td>6</td>\n",
       "      <td>1.728656e+09</td>\n",
       "      <td>austinfood</td>\n",
       "      <td>71</td>\n",
       "      <td>0.64</td>\n",
       "      <td>False</td>\n",
       "    </tr>\n",
       "    <tr>\n",
       "      <th>6487</th>\n",
       "      <td>1g1asf1</td>\n",
       "      <td>https://www.reddit.com/r/RhodeIsland/comments/...</td>\n",
       "      <td>Where to find Del's Lemonade/Coffee Milk in We...</td>\n",
       "      <td>We're visiting Westerly this October and I saw...</td>\n",
       "      <td>1</td>\n",
       "      <td>1.728656e+09</td>\n",
       "      <td>RhodeIsland</td>\n",
       "      <td>2</td>\n",
       "      <td>1.00</td>\n",
       "      <td>False</td>\n",
       "    </tr>\n",
       "    <tr>\n",
       "      <th>6488</th>\n",
       "      <td>1g1arfg</td>\n",
       "      <td>https://www.reddit.com/r/snapchat/comments/1g1...</td>\n",
       "      <td>36 [M4A] - Happy Friday, would love to find so...</td>\n",
       "      <td>Morning all!\\n\\nWell it’s Friday (Thank goodne...</td>\n",
       "      <td>2</td>\n",
       "      <td>1.728656e+09</td>\n",
       "      <td>snapchat</td>\n",
       "      <td>1</td>\n",
       "      <td>1.00</td>\n",
       "      <td>False</td>\n",
       "    </tr>\n",
       "    <tr>\n",
       "      <th>6489</th>\n",
       "      <td>1g1aren</td>\n",
       "      <td>https://www.reddit.com/r/travel/comments/1g1ar...</td>\n",
       "      <td>Europamundo Tour Extremely Frustrating</td>\n",
       "      <td>Just returned home from Tour EM069758, Beautif...</td>\n",
       "      <td>2</td>\n",
       "      <td>1.728656e+09</td>\n",
       "      <td>travel</td>\n",
       "      <td>0</td>\n",
       "      <td>0.75</td>\n",
       "      <td>False</td>\n",
       "    </tr>\n",
       "  </tbody>\n",
       "</table>\n",
       "<p>6490 rows × 10 columns</p>\n",
       "</div>"
      ],
      "text/plain": [
       "           id                                                url  \\\n",
       "0     1fyrd3v             https://www.reddit.com/gallery/1fyrd3v   \n",
       "1     1fyrcxa  https://www.reddit.com/r/offmychest/comments/1...   \n",
       "2     1fyrag5  https://www.reddit.com/r/Beading/comments/1fyr...   \n",
       "3     1fyr9y8  https://www.reddit.com/r/tharookhaulersnark/co...   \n",
       "4     1fyr925               https://i.redd.it/wc9gb4mjigtd1.jpeg   \n",
       "...       ...                                                ...   \n",
       "6485  1g1atmu               https://i.redd.it/wkcz8gd7y4ud1.jpeg   \n",
       "6486  1g1asy7  https://www.reddit.com/r/austinfood/comments/1...   \n",
       "6487  1g1asf1  https://www.reddit.com/r/RhodeIsland/comments/...   \n",
       "6488  1g1arfg  https://www.reddit.com/r/snapchat/comments/1g1...   \n",
       "6489  1g1aren  https://www.reddit.com/r/travel/comments/1g1ar...   \n",
       "\n",
       "                                                  title  \\\n",
       "0     Kitchen supplies sale (discount if buy multipl...   \n",
       "1                             Worst birthday ever(rant)   \n",
       "2                   My pets are conspiring against me.    \n",
       "3     omg i just laughed out loud when he mentioned ...   \n",
       "4                                        coloring book!   \n",
       "...                                                 ...   \n",
       "6485                            Coffee on the go today    \n",
       "6486  First-Time Austin Visitor - Feedback on My Res...   \n",
       "6487  Where to find Del's Lemonade/Coffee Milk in We...   \n",
       "6488  36 [M4A] - Happy Friday, would love to find so...   \n",
       "6489             Europamundo Tour Extremely Frustrating   \n",
       "\n",
       "                                                   text  score   created_utc  \\\n",
       "0     (PM for more pictures and info) \\n- Instapot 7...      1  1.728361e+09   \n",
       "1     I've been thinking about writing in here for a...      1  1.728361e+09   \n",
       "2     I left a tube of beads on the coffee table and...      1  1.728360e+09   \n",
       "3     bruhhhhh i forgot this man is a self declared ...      1  1.728360e+09   \n",
       "4     i’ve posted a few of my drawings, and i wanted...      2  1.728360e+09   \n",
       "...                                                 ...    ...           ...   \n",
       "6485                                                NaN      1  1.728656e+09   \n",
       "6486  Hey y’all! My wife and I are visiting Austin f...      6  1.728656e+09   \n",
       "6487  We're visiting Westerly this October and I saw...      1  1.728656e+09   \n",
       "6488  Morning all!\\n\\nWell it’s Friday (Thank goodne...      2  1.728656e+09   \n",
       "6489  Just returned home from Tour EM069758, Beautif...      2  1.728656e+09   \n",
       "\n",
       "               subreddit  num_comments  upvote_ratio  over_18  \n",
       "0        UCSDclassifieds             1          1.00    False  \n",
       "1             offmychest             0          1.00    False  \n",
       "2                Beading             1          1.00    False  \n",
       "3     tharookhaulersnark             0          1.00    False  \n",
       "4             gamegrumps             0          1.00    False  \n",
       "...                  ...           ...           ...      ...  \n",
       "6485           SFWAmIHot             1          1.00    False  \n",
       "6486          austinfood            71          0.64    False  \n",
       "6487         RhodeIsland             2          1.00    False  \n",
       "6488            snapchat             1          1.00    False  \n",
       "6489              travel             0          0.75    False  \n",
       "\n",
       "[6490 rows x 10 columns]"
      ]
     },
     "execution_count": 14,
     "metadata": {},
     "output_type": "execute_result"
    }
   ],
   "source": [
    "combined_df"
   ]
  },
  {
   "cell_type": "markdown",
   "id": "9c13a979-b7f8-4678-b574-02b28de7a3fe",
   "metadata": {},
   "source": [
    "## Merge Scraped data with Kaggle data"
   ]
  },
  {
   "cell_type": "code",
   "execution_count": 15,
   "id": "2542a5e4-f140-4349-b1a8-7f5b7f1ccc65",
   "metadata": {},
   "outputs": [],
   "source": [
    "df_final = pd.concat([df_kaggle, combined_df], ignore_index=True)"
   ]
  },
  {
   "cell_type": "code",
   "execution_count": 16,
   "id": "b6257633-3cfa-4469-a89c-6b49234ad8dd",
   "metadata": {},
   "outputs": [
    {
     "data": {
      "text/plain": [
       "(14904, 10)"
      ]
     },
     "execution_count": 16,
     "metadata": {},
     "output_type": "execute_result"
    }
   ],
   "source": [
    "df_final.shape"
   ]
  },
  {
   "cell_type": "code",
   "execution_count": 17,
   "id": "d9449d70-413b-4cdc-b90f-861aca563253",
   "metadata": {},
   "outputs": [
    {
     "name": "stdout",
     "output_type": "stream",
     "text": [
      "2024-10-11 22:10:50\n"
     ]
    },
    {
     "name": "stderr",
     "output_type": "stream",
     "text": [
      "/var/folders/6p/b8fsbws114377d5kxxk54hdm0000gn/T/ipykernel_5024/1628956749.py:2: DeprecationWarning: datetime.datetime.utcfromtimestamp() is deprecated and scheduled for removal in a future version. Use timezone-aware objects to represent datetimes in UTC: datetime.datetime.fromtimestamp(timestamp, datetime.UTC).\n",
      "  max_datetime = datetime.strftime(datetime.utcfromtimestamp(max_utc), \"%Y-%m-%d %H:%m:%S\")\n"
     ]
    }
   ],
   "source": [
    "max_utc = df_final['created_utc'].max()\n",
    "max_datetime = datetime.strftime(datetime.utcfromtimestamp(max_utc), \"%Y-%m-%d %H:%m:%S\")\n",
    "print(max_datetime)"
   ]
  },
  {
   "cell_type": "code",
   "execution_count": 18,
   "id": "c2bfde9b-306e-496b-bf58-a84d787befab",
   "metadata": {},
   "outputs": [],
   "source": [
    "df_final.drop_duplicates(inplace=True)"
   ]
  },
  {
   "cell_type": "code",
   "execution_count": 19,
   "id": "43660f83-7bab-4a2f-9a79-6efec01a8401",
   "metadata": {},
   "outputs": [
    {
     "data": {
      "text/plain": [
       "(14765, 10)"
      ]
     },
     "execution_count": 19,
     "metadata": {},
     "output_type": "execute_result"
    }
   ],
   "source": [
    "df_final.shape"
   ]
  },
  {
   "cell_type": "markdown",
   "id": "fbe69c66-bfb7-467a-8447-1f9397eb5cc0",
   "metadata": {},
   "source": [
    "## Upload to kaggle"
   ]
  },
  {
   "cell_type": "code",
   "execution_count": 20,
   "id": "b05ceba2-010d-47d6-a0f5-29f9ad06d7b3",
   "metadata": {},
   "outputs": [
    {
     "name": "stdout",
     "output_type": "stream",
     "text": [
      "reddit_coffee_scraper_till_2024-10-11 22:10:50\n"
     ]
    }
   ],
   "source": [
    "version_name = f\"reddit_coffee_scraper_till_{max_datetime}\"\n",
    "print(version_name)"
   ]
  },
  {
   "cell_type": "code",
   "execution_count": 21,
   "id": "b562f8a1-92ba-4b52-b86b-40207f06b45a",
   "metadata": {},
   "outputs": [],
   "source": [
    "df_final.to_csv(f\"kaggle_dataset/{version_name}.csv\", index=False)"
   ]
  },
  {
   "cell_type": "code",
   "execution_count": 22,
   "id": "02cfa218-e63f-4af8-a1f7-07a927b06f03",
   "metadata": {},
   "outputs": [
    {
     "name": "stdout",
     "output_type": "stream",
     "text": [
      "Warning: Your Kaggle API key is readable by other users on this system! To fix this, you can run 'chmod 600 /Users/parthshah/.kaggle/kaggle.json'\n",
      "Starting upload for file reddit_coffee_scraper_till_2024-10-11 22:10:50.csv\n"
     ]
    },
    {
     "name": "stderr",
     "output_type": "stream",
     "text": [
      "100%|██████████| 26.3M/26.3M [00:02<00:00, 10.5MB/s]\n",
      "  0%|          | 0.00/14.8M [00:00<?, ?B/s]"
     ]
    },
    {
     "name": "stdout",
     "output_type": "stream",
     "text": [
      "Upload successful: reddit_coffee_scraper_till_2024-10-11 22:10:50.csv (26MB)\n",
      "Starting upload for file reddit_coffee_scraper_till_2024-10-07 221018.csv\n"
     ]
    },
    {
     "name": "stderr",
     "output_type": "stream",
     "text": [
      "100%|██████████| 14.8M/14.8M [00:00<00:00, 21.8MB/s]\n",
      "  0%|          | 0.00/285 [00:00<?, ?B/s]"
     ]
    },
    {
     "name": "stdout",
     "output_type": "stream",
     "text": [
      "Upload successful: reddit_coffee_scraper_till_2024-10-07 221018.csv (15MB)\n",
      "Starting upload for file .ipynb_checkpoints.zip\n"
     ]
    },
    {
     "name": "stderr",
     "output_type": "stream",
     "text": [
      "100%|██████████| 285/285 [00:00<00:00, 759B/s]\n"
     ]
    },
    {
     "name": "stdout",
     "output_type": "stream",
     "text": [
      "Upload successful: .ipynb_checkpoints.zip (285B)\n",
      "Dataset version is being created. Please check progress at https://www.kaggle.com/shahp7575/reddit-posts-with-keyword-coffee\n"
     ]
    },
    {
     "data": {
      "text/plain": [
       "0"
      ]
     },
     "execution_count": 22,
     "metadata": {},
     "output_type": "execute_result"
    }
   ],
   "source": [
    "os.system(f'kaggle datasets version -p kaggle_dataset/ -m \"New data upload - {version_name}\" --dir-mode zip')"
   ]
  },
  {
   "cell_type": "code",
   "execution_count": null,
   "id": "0954fdce-17c5-44f8-9b94-b271808205c3",
   "metadata": {},
   "outputs": [],
   "source": []
  },
  {
   "cell_type": "code",
   "execution_count": null,
   "id": "0f97bf93-fbbf-4962-8516-da784d8c21ac",
   "metadata": {},
   "outputs": [],
   "source": []
  },
  {
   "cell_type": "code",
   "execution_count": null,
   "id": "9965b230-060d-4f76-9d2b-eef8e53804ed",
   "metadata": {},
   "outputs": [],
   "source": []
  },
  {
   "cell_type": "code",
   "execution_count": null,
   "id": "0888bba3-dd58-4f3f-80af-7e01aee274a4",
   "metadata": {},
   "outputs": [],
   "source": []
  },
  {
   "cell_type": "code",
   "execution_count": null,
   "id": "1711bf7a-494f-43bb-a50d-956aeb7b072e",
   "metadata": {},
   "outputs": [],
   "source": []
  },
  {
   "cell_type": "code",
   "execution_count": null,
   "id": "4b4ce265-d9cc-4b07-bb52-8f227d663947",
   "metadata": {},
   "outputs": [],
   "source": []
  },
  {
   "cell_type": "code",
   "execution_count": null,
   "id": "fa0a1852-297e-4741-bbbd-65bbf56d924b",
   "metadata": {},
   "outputs": [],
   "source": []
  }
 ],
 "metadata": {
  "kernelspec": {
   "display_name": "Coffee Scraper Kernel",
   "language": "python",
   "name": "coffee_scraper"
  },
  "language_info": {
   "codemirror_mode": {
    "name": "ipython",
    "version": 3
   },
   "file_extension": ".py",
   "mimetype": "text/x-python",
   "name": "python",
   "nbconvert_exporter": "python",
   "pygments_lexer": "ipython3",
   "version": "3.12.5"
  }
 },
 "nbformat": 4,
 "nbformat_minor": 5
}
