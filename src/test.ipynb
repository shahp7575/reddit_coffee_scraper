{
 "cells": [
  {
   "cell_type": "code",
   "execution_count": 23,
   "id": "6ee3ea90-e254-41df-8e79-0aa8e013cdfb",
   "metadata": {},
   "outputs": [],
   "source": [
    "import pandas as pd"
   ]
  },
  {
   "cell_type": "code",
   "execution_count": 24,
   "id": "6e807b8b-5fc7-421b-9e8d-a052ff9d2bbf",
   "metadata": {},
   "outputs": [
    {
     "name": "stdout",
     "output_type": "stream",
     "text": [
      "reddit_coffee_posts_1727755200_1727841599.csv\n",
      "reddit_coffee_posts_1727792068_1727799268.csv\n"
     ]
    }
   ],
   "source": [
    "!ls ../data/"
   ]
  },
  {
   "cell_type": "code",
   "execution_count": 25,
   "id": "472658f5-93f8-484a-9baf-7d87603a2c65",
   "metadata": {},
   "outputs": [],
   "source": [
    "df = pd.read_csv(\"../data/reddit_coffee_posts_1727792068_1727799268.csv\")"
   ]
  },
  {
   "cell_type": "code",
   "execution_count": 26,
   "id": "6fb15d35-ae7f-49a4-9803-c8866cbf0ca1",
   "metadata": {},
   "outputs": [
    {
     "data": {
      "text/plain": [
       "(171, 10)"
      ]
     },
     "execution_count": 26,
     "metadata": {},
     "output_type": "execute_result"
    }
   ],
   "source": [
    "df.shape"
   ]
  },
  {
   "cell_type": "code",
   "execution_count": 28,
   "id": "bed0224a-6aad-486b-9ae5-48d909329c5c",
   "metadata": {},
   "outputs": [
    {
     "data": {
      "text/html": [
       "<div>\n",
       "<style scoped>\n",
       "    .dataframe tbody tr th:only-of-type {\n",
       "        vertical-align: middle;\n",
       "    }\n",
       "\n",
       "    .dataframe tbody tr th {\n",
       "        vertical-align: top;\n",
       "    }\n",
       "\n",
       "    .dataframe thead th {\n",
       "        text-align: right;\n",
       "    }\n",
       "</style>\n",
       "<table border=\"1\" class=\"dataframe\">\n",
       "  <thead>\n",
       "    <tr style=\"text-align: right;\">\n",
       "      <th></th>\n",
       "      <th>id</th>\n",
       "      <th>url</th>\n",
       "      <th>title</th>\n",
       "      <th>text</th>\n",
       "      <th>score</th>\n",
       "      <th>created_utc</th>\n",
       "      <th>subreddit</th>\n",
       "      <th>num_comments</th>\n",
       "      <th>upvote_ratio</th>\n",
       "      <th>over_18</th>\n",
       "    </tr>\n",
       "  </thead>\n",
       "  <tbody>\n",
       "    <tr>\n",
       "      <th>111</th>\n",
       "      <td>1ftq02y</td>\n",
       "      <td>https://www.reddit.com/r/MakeNewFriendsHere/co...</td>\n",
       "      <td>33F 🇺🇸 For your new nerdy best friend inquire ...</td>\n",
       "      <td>I'm rather nerdy. I spend most of my days at h...</td>\n",
       "      <td>0</td>\n",
       "      <td>1.727794e+09</td>\n",
       "      <td>MakeNewFriendsHere</td>\n",
       "      <td>1</td>\n",
       "      <td>0.50</td>\n",
       "      <td>False</td>\n",
       "    </tr>\n",
       "    <tr>\n",
       "      <th>26</th>\n",
       "      <td>1ftraou</td>\n",
       "      <td>https://www.reddit.com/r/gaydads/comments/1ftr...</td>\n",
       "      <td>Surrogacy experience in Mexico City</td>\n",
       "      <td>Now that we're finally back in the US, I thoug...</td>\n",
       "      <td>1</td>\n",
       "      <td>1.727798e+09</td>\n",
       "      <td>gaydads</td>\n",
       "      <td>0</td>\n",
       "      <td>0.67</td>\n",
       "      <td>False</td>\n",
       "    </tr>\n",
       "    <tr>\n",
       "      <th>73</th>\n",
       "      <td>1ftqnl6</td>\n",
       "      <td>https://i.redd.it/v2giem5gw5sd1.jpeg</td>\n",
       "      <td>Helene Relief Supply Drop Off</td>\n",
       "      <td>NaN</td>\n",
       "      <td>17</td>\n",
       "      <td>1.727796e+09</td>\n",
       "      <td>Charlotte</td>\n",
       "      <td>0</td>\n",
       "      <td>1.00</td>\n",
       "      <td>False</td>\n",
       "    </tr>\n",
       "    <tr>\n",
       "      <th>112</th>\n",
       "      <td>1ftpz8w</td>\n",
       "      <td>https://www.reddit.com/r/chicago/comments/1ftp...</td>\n",
       "      <td>Repetitive businesses in our neighborhood</td>\n",
       "      <td>A friend and I were talking about how our neig...</td>\n",
       "      <td>33</td>\n",
       "      <td>1.727794e+09</td>\n",
       "      <td>chicago</td>\n",
       "      <td>54</td>\n",
       "      <td>0.81</td>\n",
       "      <td>False</td>\n",
       "    </tr>\n",
       "    <tr>\n",
       "      <th>120</th>\n",
       "      <td>1ftpw5q</td>\n",
       "      <td>https://i.redd.it/79obiclqq5sd1.jpeg</td>\n",
       "      <td>How do I get this machine to do anything at all?</td>\n",
       "      <td>This machine will only send about half of the ...</td>\n",
       "      <td>0</td>\n",
       "      <td>1.727794e+09</td>\n",
       "      <td>espresso</td>\n",
       "      <td>30</td>\n",
       "      <td>0.15</td>\n",
       "      <td>False</td>\n",
       "    </tr>\n",
       "  </tbody>\n",
       "</table>\n",
       "</div>"
      ],
      "text/plain": [
       "          id                                                url  \\\n",
       "111  1ftq02y  https://www.reddit.com/r/MakeNewFriendsHere/co...   \n",
       "26   1ftraou  https://www.reddit.com/r/gaydads/comments/1ftr...   \n",
       "73   1ftqnl6               https://i.redd.it/v2giem5gw5sd1.jpeg   \n",
       "112  1ftpz8w  https://www.reddit.com/r/chicago/comments/1ftp...   \n",
       "120  1ftpw5q               https://i.redd.it/79obiclqq5sd1.jpeg   \n",
       "\n",
       "                                                 title  \\\n",
       "111  33F 🇺🇸 For your new nerdy best friend inquire ...   \n",
       "26                 Surrogacy experience in Mexico City   \n",
       "73                       Helene Relief Supply Drop Off   \n",
       "112         Repetitive businesses in our neighborhood    \n",
       "120   How do I get this machine to do anything at all?   \n",
       "\n",
       "                                                  text  score   created_utc  \\\n",
       "111  I'm rather nerdy. I spend most of my days at h...      0  1.727794e+09   \n",
       "26   Now that we're finally back in the US, I thoug...      1  1.727798e+09   \n",
       "73                                                 NaN     17  1.727796e+09   \n",
       "112  A friend and I were talking about how our neig...     33  1.727794e+09   \n",
       "120  This machine will only send about half of the ...      0  1.727794e+09   \n",
       "\n",
       "              subreddit  num_comments  upvote_ratio  over_18  \n",
       "111  MakeNewFriendsHere             1          0.50    False  \n",
       "26              gaydads             0          0.67    False  \n",
       "73            Charlotte             0          1.00    False  \n",
       "112             chicago            54          0.81    False  \n",
       "120            espresso            30          0.15    False  "
      ]
     },
     "execution_count": 28,
     "metadata": {},
     "output_type": "execute_result"
    }
   ],
   "source": [
    "df.sample(5)"
   ]
  },
  {
   "cell_type": "code",
   "execution_count": 29,
   "id": "031eb03f-7931-470e-a3bc-c9da75d91e75",
   "metadata": {},
   "outputs": [
    {
     "data": {
      "text/plain": [
       "subreddit\n",
       "PHR4Rhookups           5\n",
       "CoffeePH               4\n",
       "MakeNewFriendsHere     4\n",
       "ADHD                   2\n",
       "StardewValley          2\n",
       "                      ..\n",
       "Chainsawfolk           1\n",
       "AlternateDayFasting    1\n",
       "sugarlifestyleforum    1\n",
       "CoffeeGolf             1\n",
       "GiftIdeas              1\n",
       "Name: count, Length: 157, dtype: int64"
      ]
     },
     "execution_count": 29,
     "metadata": {},
     "output_type": "execute_result"
    }
   ],
   "source": [
    "df.subreddit.value_counts()"
   ]
  },
  {
   "cell_type": "code",
   "execution_count": null,
   "id": "2bc9c9f5-6dc7-4890-aa0a-390d98405efa",
   "metadata": {},
   "outputs": [],
   "source": []
  },
  {
   "cell_type": "code",
   "execution_count": null,
   "id": "0888bba3-dd58-4f3f-80af-7e01aee274a4",
   "metadata": {},
   "outputs": [],
   "source": []
  },
  {
   "cell_type": "code",
   "execution_count": null,
   "id": "1711bf7a-494f-43bb-a50d-956aeb7b072e",
   "metadata": {},
   "outputs": [],
   "source": []
  },
  {
   "cell_type": "code",
   "execution_count": null,
   "id": "4b4ce265-d9cc-4b07-bb52-8f227d663947",
   "metadata": {},
   "outputs": [],
   "source": []
  },
  {
   "cell_type": "code",
   "execution_count": null,
   "id": "fa0a1852-297e-4741-bbbd-65bbf56d924b",
   "metadata": {},
   "outputs": [],
   "source": []
  }
 ],
 "metadata": {
  "kernelspec": {
   "display_name": "Coffee Scraper Kernel",
   "language": "python",
   "name": "coffee_scraper"
  },
  "language_info": {
   "codemirror_mode": {
    "name": "ipython",
    "version": 3
   },
   "file_extension": ".py",
   "mimetype": "text/x-python",
   "name": "python",
   "nbconvert_exporter": "python",
   "pygments_lexer": "ipython3",
   "version": "3.12.5"
  }
 },
 "nbformat": 4,
 "nbformat_minor": 5
}
