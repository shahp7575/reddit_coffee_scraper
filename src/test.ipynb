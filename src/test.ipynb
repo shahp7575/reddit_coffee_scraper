{
 "cells": [
  {
   "cell_type": "code",
   "execution_count": 1,
   "id": "6ee3ea90-e254-41df-8e79-0aa8e013cdfb",
   "metadata": {},
   "outputs": [],
   "source": [
    "import pandas as pd"
   ]
  },
  {
   "cell_type": "code",
   "execution_count": 5,
   "id": "6e807b8b-5fc7-421b-9e8d-a052ff9d2bbf",
   "metadata": {},
   "outputs": [
    {
     "name": "stdout",
     "output_type": "stream",
     "text": [
      "reddit_coffee_posts_1727755200_1727841599.csv\n"
     ]
    }
   ],
   "source": [
    "!ls data/"
   ]
  },
  {
   "cell_type": "code",
   "execution_count": 7,
   "id": "472658f5-93f8-484a-9baf-7d87603a2c65",
   "metadata": {},
   "outputs": [],
   "source": [
    "df = pd.read_csv(\"data/reddit_coffee_posts_1727755200_1727841599.csv\")"
   ]
  },
  {
   "cell_type": "code",
   "execution_count": 8,
   "id": "6fb15d35-ae7f-49a4-9803-c8866cbf0ca1",
   "metadata": {},
   "outputs": [
    {
     "data": {
      "text/plain": [
       "(4, 2)"
      ]
     },
     "execution_count": 8,
     "metadata": {},
     "output_type": "execute_result"
    }
   ],
   "source": [
    "df.shape"
   ]
  },
  {
   "cell_type": "code",
   "execution_count": 9,
   "id": "bed0224a-6aad-486b-9ae5-48d909329c5c",
   "metadata": {},
   "outputs": [
    {
     "data": {
      "text/html": [
       "<div>\n",
       "<style scoped>\n",
       "    .dataframe tbody tr th:only-of-type {\n",
       "        vertical-align: middle;\n",
       "    }\n",
       "\n",
       "    .dataframe tbody tr th {\n",
       "        vertical-align: top;\n",
       "    }\n",
       "\n",
       "    .dataframe thead th {\n",
       "        text-align: right;\n",
       "    }\n",
       "</style>\n",
       "<table border=\"1\" class=\"dataframe\">\n",
       "  <thead>\n",
       "    <tr style=\"text-align: right;\">\n",
       "      <th></th>\n",
       "      <th>0</th>\n",
       "      <th>1</th>\n",
       "    </tr>\n",
       "  </thead>\n",
       "  <tbody>\n",
       "    <tr>\n",
       "      <th>0</th>\n",
       "      <td>{'id': '1ftf8ui', 'url': 'https://i.redd.it/9p...</td>\n",
       "      <td>{'id': '1ftf82s', 'url': 'https://i.redd.it/h4...</td>\n",
       "    </tr>\n",
       "    <tr>\n",
       "      <th>1</th>\n",
       "      <td>{'id': '1ftf8ui', 'url': 'https://i.redd.it/9p...</td>\n",
       "      <td>{'id': '1ftf82s', 'url': 'https://i.redd.it/h4...</td>\n",
       "    </tr>\n",
       "    <tr>\n",
       "      <th>2</th>\n",
       "      <td>{'id': '1ftf8ui', 'url': 'https://i.redd.it/9p...</td>\n",
       "      <td>{'id': '1ftf82s', 'url': 'https://i.redd.it/h4...</td>\n",
       "    </tr>\n",
       "    <tr>\n",
       "      <th>3</th>\n",
       "      <td>{'id': '1ftf8ui', 'url': 'https://i.redd.it/9p...</td>\n",
       "      <td>{'id': '1ftf82s', 'url': 'https://i.redd.it/h4...</td>\n",
       "    </tr>\n",
       "  </tbody>\n",
       "</table>\n",
       "</div>"
      ],
      "text/plain": [
       "                                                   0  \\\n",
       "0  {'id': '1ftf8ui', 'url': 'https://i.redd.it/9p...   \n",
       "1  {'id': '1ftf8ui', 'url': 'https://i.redd.it/9p...   \n",
       "2  {'id': '1ftf8ui', 'url': 'https://i.redd.it/9p...   \n",
       "3  {'id': '1ftf8ui', 'url': 'https://i.redd.it/9p...   \n",
       "\n",
       "                                                   1  \n",
       "0  {'id': '1ftf82s', 'url': 'https://i.redd.it/h4...  \n",
       "1  {'id': '1ftf82s', 'url': 'https://i.redd.it/h4...  \n",
       "2  {'id': '1ftf82s', 'url': 'https://i.redd.it/h4...  \n",
       "3  {'id': '1ftf82s', 'url': 'https://i.redd.it/h4...  "
      ]
     },
     "execution_count": 9,
     "metadata": {},
     "output_type": "execute_result"
    }
   ],
   "source": [
    "df.head()"
   ]
  },
  {
   "cell_type": "code",
   "execution_count": null,
   "id": "031eb03f-7931-470e-a3bc-c9da75d91e75",
   "metadata": {},
   "outputs": [],
   "source": []
  },
  {
   "cell_type": "code",
   "execution_count": null,
   "id": "fa0a1852-297e-4741-bbbd-65bbf56d924b",
   "metadata": {},
   "outputs": [],
   "source": []
  }
 ],
 "metadata": {
  "kernelspec": {
   "display_name": "Coffee Scraper Kernel",
   "language": "python",
   "name": "coffee_scraper"
  },
  "language_info": {
   "codemirror_mode": {
    "name": "ipython",
    "version": 3
   },
   "file_extension": ".py",
   "mimetype": "text/x-python",
   "name": "python",
   "nbconvert_exporter": "python",
   "pygments_lexer": "ipython3",
   "version": "3.12.5"
  }
 },
 "nbformat": 4,
 "nbformat_minor": 5
}
